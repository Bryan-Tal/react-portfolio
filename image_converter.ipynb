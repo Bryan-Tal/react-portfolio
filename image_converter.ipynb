{
 "cells": [
  {
   "cell_type": "code",
   "execution_count": 2,
   "metadata": {},
   "outputs": [],
   "source": [
    "from PIL import Image\n",
    "import os"
   ]
  },
  {
   "cell_type": "code",
   "execution_count": 7,
   "metadata": {},
   "outputs": [
    {
     "name": "stdout",
     "output_type": "stream",
     "text": [
      "S&P-Analysis .png\n"
     ]
    }
   ],
   "source": [
    "site_size = (520,380)\n",
    "for file in os.listdir(\"./src/assets/img\"):\n",
    "    if file.endswith('Analysis.png'):\n",
    "        fn, fext = os.path.splitext(file)\n",
    "        img = Image.open(\"./src/assets/img/\" +file)\n",
    "        print(fn, fext)\n",
    "        img = img.resize(site_size)\n",
    "        img.save(\"./src/assets/img/\" + fn + \"-shrunk\"+fext,\"PNG\")\n"
   ]
  }
 ],
 "metadata": {
  "kernelspec": {
   "display_name": "Python 3",
   "language": "python",
   "name": "python3"
  },
  "language_info": {
   "codemirror_mode": {
    "name": "ipython",
    "version": 3
   },
   "file_extension": ".py",
   "mimetype": "text/x-python",
   "name": "python",
   "nbconvert_exporter": "python",
   "pygments_lexer": "ipython3",
   "version": "3.10.4"
  }
 },
 "nbformat": 4,
 "nbformat_minor": 2
}
